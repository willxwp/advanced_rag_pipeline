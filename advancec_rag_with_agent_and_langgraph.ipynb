{
 "cells": [
  {
   "cell_type": "markdown",
   "id": "150cac4c",
   "metadata": {},
   "source": [
    "This project aims to build an advanced RAG (Retrieval-Augmented Generation) system with an agent that can perform various tasks, including web searching and relevance checking, using the LangGrapgh library.\n"
   ]
  },
  {
   "cell_type": "markdown",
   "id": "1b714c94",
   "metadata": {},
   "source": [
    "**Indexing**\n"
   ]
  },
  {
   "cell_type": "code",
   "execution_count": 1,
   "id": "a648512e",
   "metadata": {},
   "outputs": [
    {
     "name": "stdout",
     "output_type": "stream",
     "text": [
      "Split PDF into 102 chunks.\n",
      "\n"
     ]
    }
   ],
   "source": [
    "from typing import List, Dict, Any\n",
    "from langchain_core.documents.base import Document\n",
    "from langchain_community.document_loaders import PyPDFLoader\n",
    "from langchain_experimental.text_splitter import SemanticChunker\n",
    "from langchain_openai import OpenAIEmbeddings, ChatOpenAI\n",
    "import chromadb\n",
    "from langchain_chroma import Chroma\n",
    "from langchain.retrievers import EnsembleRetriever, BM25Retriever\n",
    "from langchain_core.vectorstores.base import VectorStoreRetriever\n",
    "from dotenv import load_dotenv\n",
    "import warnings\n",
    "\n",
    "warnings.filterwarnings(\"ignore\", category=UserWarning)\n",
    "\n",
    "# Load the PDF file\n",
    "pdf_path = \"google-2023-environmental-report.pdf\"\n",
    "loader = PyPDFLoader(file_path=pdf_path, mode=\"single\")\n",
    "documents: List[Document] = loader.load()\n",
    "\n",
    "# Create a embedding object\n",
    "load_dotenv()\n",
    "embedding_function = OpenAIEmbeddings(model=\"text-embedding-3-small\")\n",
    "\n",
    "# Split the documents into chunks\n",
    "chunker = SemanticChunker(embeddings=embedding_function)\n",
    "chunks: List[Document] = chunker.split_documents(documents)\n",
    "print(f\"Split PDF into {len(chunks)} chunks.\\n\")"
   ]
  },
  {
   "cell_type": "code",
   "execution_count": 2,
   "id": "62b55d19",
   "metadata": {},
   "outputs": [],
   "source": [
    "# Create a Chroma vector store\n",
    "chroma_client = chromadb.Client()\n",
    "collection_name = \"google_environmental_report\"\n",
    "\n",
    "chroma_vector_store: Chroma = Chroma.from_documents(\n",
    "    documents=chunks,\n",
    "    embedding=embedding_function,\n",
    "    collection_name=collection_name,\n",
    "    client=chroma_client,\n",
    ")\n",
    "\n",
    "# Create a BM25 retriever\n",
    "sparse_retriever: BM25Retriever = BM25Retriever.from_documents(\n",
    "    documents=chunks,\n",
    "    k=5\n",
    ")\n",
    "# Create a Chroma retriever\n",
    "dense_retriever: VectorStoreRetriever = chroma_vector_store.as_retriever(\n",
    "    search_kwargs={\"k\": 5}\n",
    ")\n",
    "# Create an ensemble retriever\n",
    "ensemble_retriever = EnsembleRetriever(\n",
    "    retrievers=[dense_retriever, sparse_retriever],\n",
    "    weights=[0.5, 0.5],\n",
    "    c=0, # c=0 means no re-ranking\n",
    "    k=10\n",
    ")"
   ]
  },
  {
   "cell_type": "markdown",
   "id": "c4d759f7",
   "metadata": {},
   "source": [
    "**Tools**\n"
   ]
  },
  {
   "cell_type": "code",
   "execution_count": 3,
   "id": "d5cab581",
   "metadata": {},
   "outputs": [
    {
     "data": {
      "text/plain": [
       "[{'title': \"Google's 2024 Environmental Report: Key Insights and Opportunities\",\n",
       "  'url': 'https://climateinsider.com/2024/07/04/googles-2024-environmental-report-key-insights-and-opportunities/',\n",
       "  'content': 'These initiatives highlight Google’s proactive approach to leveraging technology for environmental sustainability, spanning sectors including transportation, energy efficiency, climate adaptation, and smart city development.\\n\\nRead also: Top Climate Tech Trends & Innovations in 2024 and Beyond\\n\\nAI for Sustainability [...] Google’s efforts to become a circular economy leader are also emphasised in the report. The company is focused on reducing waste, reusing materials, and designing products with sustainability in mind. By prioritising a circular approach, Google aims to minimise its environmental impact and promote long-term sustainability. [...] A feature initiative of the company can be found in the recent partnership with The Nature Conservancy which focuses on supporting the Colorado River Indian Tribes System Conservation Project. This project helps enhance water conservation practices, benefiting both the environment and local communities.\\n\\nCircular Economy Initiatives',\n",
       "  'score': 0.8446273},\n",
       " {'title': 'Google Goes Green | Devoteam',\n",
       "  'url': 'https://www.devoteam.com/expert-view/google-goes-green/',\n",
       "  'content': 'When it comes to Google’s in-house initiatives, it has focused on the impact of their workplaces and the buildings that house them. More than 15 million square feet of Google offices have achieved LEED (Leadership in Energy and Environmental Design) certification.\\n\\nIn California’s Bay Area, home to Google’s headquarters and largest office. [...] 1. https://sustainability.google/commitments/#leading-at-google\\n\\n2. https://blog.google/alphabet/alphabet-issues-sustainability-bonds-support-environmental-and-social-initiatives/\\n\\n3. https://insights.sustainability.google/methodology\\n\\n4. https://www.crowtherlab.com/restoration/\\n\\n5. https://static.googleusercontent.com/media/www.google.com/en//green/pdfs/google-green-computing.pdf\\n\\n6. https://blog.google/outreach-initiatives/environment/deepmind-ai-reduces-energy-used-for/ [...] Google is also determined to remove carbon already present in our environment. Google has partnered with Crowther Lab4 to develop global reforestation efforts backed by science to optimise the effect of a nature-provided solution.\\n\\nEven businesses that use Gmail are doing their part to decrease environmental impact by up to 98%5.\\n\\nIn House',\n",
       "  'score': 0.74161834},\n",
       " {'title': 'Google Turns Sustainability Initiatives Into Reality',\n",
       "  'url': 'https://energytracker.asia/google-turns-sustainability-initiatives-into-reality/',\n",
       "  'content': 'Google’s commitment to\\xa0sustainability\\xa0includes circularity within its data centers, where it minimises waste and prioritises the recycling of components. Furthermore, it is pushing the sustainability industry forward with multiple investments in R&D for sustainable development. The internet services giant is also helping communities reduce their carbon dioxide emissions. Google measures the impacts and carbon intensity of specific actions and suggests alternatives. [...] However, the bottom line remains the same. Google wants to make people aware of the environmental impact and carbon emitted by their choices, and it wants to give them the available alternatives.\\n\\nIs Google a Green Company? [...] With such an important footprint on technology and the internet, Google must also shoulder much responsibility regarding sociopolitical movements and corporate action. Historically, it has adapted well to new consumer behaviours and societal changes. Now, we are seeing Google do the same thing with environmental sustainability, which it is spearheading with its\\xa0net-zero 2030\\xa0target.\\n\\nHow Is Google Sustainable?',\n",
       "  'score': 0.73981786},\n",
       " {'title': 'Our 2024 Environmental Report - Google Blog',\n",
       "  'url': 'https://blog.google/outreach-initiatives/sustainability/2024-environmental-report/',\n",
       "  'content': \"We have a bold goal to reach net-zero emissions across all of our operations and value chain by 2030, supported by a goal to run on 24/7 CFE on every grid where we operate. In addition, we’re working to advance water stewardship, build a circular economy, and restore and enhance nature and biodiversity. This year’s report shows how we continue to make progress across all of these areas: [...] Through our products, we aim to help individuals, cities and other partners collectively reduce 1 gigaton of carbon equivalent emissions annually by 2030, and we’ll continue to develop technologies that help communities adapt to the effects of climate change.\\nHow we're driving sustainability across our operations\",\n",
       "  'score': 0.7163977}]"
      ]
     },
     "execution_count": 3,
     "metadata": {},
     "output_type": "execute_result"
    }
   ],
   "source": [
    "# Define the tools that will be used by the agent\n",
    "from langchain_community.tools.tavily_search import TavilySearchResults\n",
    "from langchain.tools.retriever import create_retriever_tool\n",
    "from langchain_core.tools.simple import Tool\n",
    "\n",
    "# Add a web-search tool\n",
    "# Tavily Search is a web search engine specifically designed for LLMs and agents.\n",
    "web_search = TavilySearchResults(max_results=4)\n",
    "web_search_name: str = web_search.name\n",
    "\n",
    "# Check the web-search tool\n",
    "web_search.invoke(\"What are Google's environmental initiatives?\")"
   ]
  },
  {
   "cell_type": "code",
   "execution_count": 4,
   "id": "2ea25a99",
   "metadata": {},
   "outputs": [],
   "source": [
    "# Create a retriever tool\n",
    "retriever_tool: Tool = create_retriever_tool(\n",
    "    retriever=ensemble_retriever,\n",
    "    name=\"retrieve_google_environmental_information_for_question_answering\",\n",
    "    description=\"Extensive information about Google environmental efforts from the 2023 report.\"\n",
    ")\n",
    "retriever_tool_name: str = retriever_tool.name\n",
    "\n",
    "# Define a list of tools for the agent\n",
    "tools: List[Tool | TavilySearchResults] = [retriever_tool, web_search]"
   ]
  },
  {
   "cell_type": "markdown",
   "id": "0d258851",
   "metadata": {},
   "source": [
    "**Agent State**<br>\n",
    "<br>\n",
    "Agent State is a key component of any agent with LangGraph. Using LangGraph, an **AgentState** class is created to establish the “state” for your agent and track it over time.\n"
   ]
  },
  {
   "cell_type": "code",
   "execution_count": 5,
   "id": "9e469e9f",
   "metadata": {},
   "outputs": [],
   "source": [
    "from typing import Annotated, Literal, Sequence, TypedDict\n",
    "from langchain_core.messages import BaseMessage, HumanMessage\n",
    "from langgraph.graph.message import add_messages\n",
    "from langgraph.prebuilt import tools_condition\n",
    "from pydantic import BaseModel, Field\n",
    "from langchain.prompts import PromptTemplate\n",
    "from langchain_core.output_parsers import StrOutputParser\n",
    "\n",
    "\n",
    "# Create AgentState class to store and check the state of the agent \n",
    "class AgentState(TypedDict):\n",
    "    # For the RAG agent, set the state to be a list of messages.\n",
    "    messages: Annotated[Sequence[BaseMessage], add_messages]\n",
    "\n",
    "\n",
    "# Define the prompt template for generation\n",
    "generation_prompt: PromptTemplate = PromptTemplate.from_template(\n",
    "    \"\"\"You are an assistant for question-answering tasks. Use the following pieces of retrieved context to answer the question.\n",
    "    If you don't know the answer, just say that you don't know. Provide a thorough description to fully answer the question, \n",
    "    utilizing any relevant information you found.\n",
    "\n",
    "    Question: {question}\n",
    "    Context: {context}\n",
    "\n",
    "    Answer:\"\"\"\n",
    ")\n",
    "\n",
    "# Define the two LLMs, one for generation and one for the agent\n",
    "# The generation LLM is used to generate the answer based on the retrieved context.\n",
    "llm_generation: ChatOpenAI = ChatOpenAI(\n",
    "    model=\"gpt-4o-mini\",\n",
    "    temperature=0\n",
    ")\n",
    "llm_agent: ChatOpenAI = ChatOpenAI(\n",
    "    model=\"gpt-4o-mini\",\n",
    "    temperature=0\n",
    ")"
   ]
  },
  {
   "cell_type": "markdown",
   "id": "ea5f1274",
   "metadata": {},
   "source": [
    "**Nodes and Edges**\n"
   ]
  },
  {
   "cell_type": "code",
   "execution_count": 6,
   "id": "7b878861",
   "metadata": {},
   "outputs": [],
   "source": [
    "# Define a conditional edge function that determines if the retrieved documents are relevant to the question.\n",
    "def score_documents(state: AgentState) -> Literal[\"generate\", \"improve\"]:\n",
    "    \"\"\"\n",
    "    This function scores the documents and decides whether to generate an answer or improve the documents.\n",
    "    \"\"\"\n",
    "    \n",
    "    print(\"---CHECK RELEVANCE---\")\n",
    "\n",
    "    # Build the scoring model\n",
    "    class ScoringModel(BaseModel):\n",
    "        \"\"\"\n",
    "        This model is used to score the documents.\n",
    "        \"\"\"\n",
    "        score: str = Field(description=\"Relevance score of the retrieved documents.\")\n",
    "\n",
    "    # add the LLM that will make the decision:\n",
    "    llm_with_tool = llm_generation.with_structured_output(schema=ScoringModel)\n",
    "\n",
    "    # Prompt\n",
    "    prompt = PromptTemplate(\n",
    "        template=\"\"\"Given the following question and retrieved context, determine if the context is relevant enough to the question. \n",
    "        Provide a score from 1 to 5, where 1 is not at all relevant and 5 is highly relevant.\n",
    "        Return ONLY the numeric score, without any additional text or explanation.\n",
    "\n",
    "        Question: {question}\n",
    "        Retrieved Context: {context}\n",
    "\n",
    "        Relevance Score:\"\"\",\n",
    "        input_variables=[\"question\", \"context\"]\n",
    "    )\n",
    "\n",
    "    # Chain for scoring documents\n",
    "    chain = prompt | llm_with_tool\n",
    "\n",
    "    # pull in the state\n",
    "    messages = state[\"messages\"]  # The list of messages in the conversation\n",
    "    last_message = messages[-1]  \n",
    "    question = messages[0].content  # The content of  first message is assumed to be the user’s question.\n",
    "    docs = last_message.content  # The content of last message is assumed to be the retrieved documents.\n",
    "\n",
    "    # Call the chain with the last message and question\n",
    "    scored_result = chain.invoke({\"question\": question, \"context\": docs})\n",
    "    score = float(scored_result.score.strip())\n",
    "\n",
    "    if score >= 4:\n",
    "        print(f\"---RELEVANCE SCORE: {score}, DECISION: DOCS RELEVANT---\")\n",
    "        return \"generate\"\n",
    "\n",
    "    else:\n",
    "        print(f\"---RELEVANCE SCORE: {score}, DECISION: DOCS NOT RELEVANT ENOUGH---\")\n",
    "        return \"improve\"\n"
   ]
  },
  {
   "cell_type": "code",
   "execution_count": 7,
   "id": "725cfc30",
   "metadata": {},
   "outputs": [],
   "source": [
    "# Agent node - invokes the agent model to generate a response based on the current state. \n",
    "# Decision choices (given the question): retrieve using the retriever tool, web_search tool, both, or end.\n",
    "def agent(state: AgentState) -> Dict[str, Any]:\n",
    "    \n",
    "    print(\"---CALL AGENT---\")\n",
    "    messages = state[\"messages\"]\n",
    "    llm = llm_agent.bind_tools(tools=tools)\n",
    "    response = llm.invoke(messages)\n",
    "    \n",
    "    return {\"messages\": [response]} # Return list, will get added to existing list\n",
    "\n",
    "\n",
    "# Define the improve node function that is responsible for transforming user_query to produce a better question \n",
    "# if the agent determines that it is needed.\n",
    "def improve(state: AgentState) -> Dict[str, Any]:\n",
    "\n",
    "    print(\"---TRANSFORM QUERY---\")\n",
    "    messages = state[\"messages\"]\n",
    "    question = messages[0].content\n",
    "\n",
    "    msg = [\n",
    "        HumanMessage(content=f\"\"\"\\n \n",
    "            Look at the input and try to reason about the underlying semantic intent / meaning. \\n \n",
    "            Here is the initial question:\n",
    "            \\n ------- \\n\n",
    "            {question} \n",
    "            \\n ------- \\n\n",
    "            Formulate an improved question: \n",
    "            \"\"\"\n",
    "        )\n",
    "    ]\n",
    "    # Scoring\n",
    "    response: BaseMessage = llm_generation.invoke(msg)\n",
    "    \n",
    "    return {\"messages\": [response]}\n",
    "\n",
    "\n",
    "# Generate node - generate answer\n",
    "def generate(state: AgentState) -> Dict[str, Any]:\n",
    "\n",
    "    print(\"---GENERATE---\")\n",
    "    # Pull in the messages\n",
    "    messages = state[\"messages\"]\n",
    "    question = messages[0].content\n",
    "    last_message = messages[-1]\n",
    "\n",
    "    question = messages[0].content\n",
    "    docs = last_message.content\n",
    "\n",
    "    # Chain\n",
    "    rag_chain = generation_prompt | llm_generation | StrOutputParser()\n",
    "\n",
    "    # Run\n",
    "    response: str = rag_chain.invoke({\"context\": docs, \"question\": question})\n",
    "    return {\"messages\": [response]}"
   ]
  },
  {
   "cell_type": "markdown",
   "id": "7bb44d55",
   "metadata": {},
   "source": [
    "**Graph Setup**\n"
   ]
  },
  {
   "cell_type": "code",
   "execution_count": 8,
   "id": "d12e8a13",
   "metadata": {},
   "outputs": [
    {
     "data": {
      "text/plain": [
       "<langgraph.graph.state.StateGraph at 0x1585f039e80>"
      ]
     },
     "execution_count": 8,
     "metadata": {},
     "output_type": "execute_result"
    }
   ],
   "source": [
    "from langgraph.graph import END, StateGraph\n",
    "from langgraph.prebuilt import ToolNode\n",
    "from IPython.display import Image, display\n",
    "\n",
    "#  Create a new instance of StateGraph\n",
    "workflow = StateGraph(state_schema=AgentState)\n",
    "\n",
    "# Add the agent node\n",
    "workflow.add_node(node=\"agent\", action=agent)\n",
    "\n",
    "# Add the tool node\n",
    "retrieve = ToolNode(tools)\n",
    "workflow.add_node(node=\"retrieve\", action=retrieve)\n",
    "\n",
    "# Add the improve node\n",
    "workflow.add_node(node=\"improve\", action=improve)\n",
    "\n",
    "# Add the generate node\n",
    "workflow.add_node(node=\"generate\", action=generate)\n",
    "\n",
    "# Define the starting point for the workflow:\n",
    "workflow.set_entry_point(\"agent\")"
   ]
  },
  {
   "cell_type": "code",
   "execution_count": 9,
   "id": "26cf0153",
   "metadata": {},
   "outputs": [],
   "source": [
    "# Next, call the \"agent\" node to decide whether to retrieve or not:\n",
    "workflow.add_conditional_edges(\n",
    "    source=\"agent\", \n",
    "    path=tools_condition,  # Use the tools_condition function to determine the next node: [\"tools\", \"__end__\"]\n",
    "    # Translate the condition outputs to nodes in our graph\n",
    "    path_map={\n",
    "        \"tools\": \"retrieve\",\n",
    "        END: END,\n",
    "    },\n",
    ")\n",
    "\n",
    "# Add the conditional edge for the scoring function\n",
    "workflow.add_conditional_edges(\"retrieve\", score_documents)  # score_documents returns either \"generate\" or \"improve\".\n",
    "\n",
    "# Add the edges between nodes\n",
    "workflow.add_edge(\"generate\", END)\n",
    "workflow.add_edge(\"improve\", \"agent\")\n",
    "\n",
    "# Compile\n",
    "graph = workflow.compile()"
   ]
  },
  {
   "cell_type": "code",
   "execution_count": 10,
   "id": "693e1b00",
   "metadata": {},
   "outputs": [
    {
     "data": {
      "image/png": "[encoded data removed]",
      "text/plain": [
       "<IPython.core.display.Image object>"
      ]
     },
     "metadata": {},
     "output_type": "display_data"
    }
   ],
   "source": [
    "try:\n",
    "    display(Image(graph.get_graph(xray=True).draw_mermaid_png()))\n",
    "except:\n",
    "    pass"
   ]
  },
  {
   "cell_type": "markdown",
   "id": "6e41e565",
   "metadata": {},
   "source": [
    "**Invoking the Graph**\n"
   ]
  },
  {
   "cell_type": "code",
   "execution_count": 11,
   "id": "865b1d6c",
   "metadata": {},
   "outputs": [
    {
     "name": "stdout",
     "output_type": "stream",
     "text": [
      "---CALL AGENT---\n",
      "---CHECK RELEVANCE---\n",
      "---RELEVANCE SCORE: 5.0, DECISION: DOCS RELEVANT---\n",
      "---GENERATE---\n"
     ]
    },
    {
     "data": {
      "text/plain": [
       "{'messages': [HumanMessage(content=\"What are Google's environmental initiatives?\", additional_kwargs={}, response_metadata={}, id='1174ab58-5811-482c-8861-48fb40166d7d'),\n",
       "  AIMessage(content='', additional_kwargs={'tool_calls': [{'id': 'call_Bam4IQBL7GobVdWLi6gw3d50', 'function': {'arguments': '{\"query\":\"Google environmental initiatives\"}', 'name': 'retrieve_google_environmental_information_for_question_answering'}, 'type': 'function'}], 'refusal': None}, response_metadata={'token_usage': {'completion_tokens': 23, 'prompt_tokens': 128, 'total_tokens': 151, 'completion_tokens_details': {'accepted_prediction_tokens': 0, 'audio_tokens': 0, 'reasoning_tokens': 0, 'rejected_prediction_tokens': 0}, 'prompt_tokens_details': {'audio_tokens': 0, 'cached_tokens': 0}}, 'model_name': 'gpt-4o-mini-2024-07-18', 'system_fingerprint': 'fp_92e0377081', 'id': 'chatcmpl-BZlgn6y9zGvcHdwAPTC53tr4IJI3R', 'service_tier': 'default', 'finish_reason': 'tool_calls', 'logprobs': None}, id='run--fb3511bb-74b9-4b14-a405-dfa9719da11e-0', tool_calls=[{'name': 'retrieve_google_environmental_information_for_question_answering', 'args': {'query': 'Google environmental initiatives'}, 'id': 'call_Bam4IQBL7GobVdWLi6gw3d50', 'type': 'tool_call'}], usage_metadata={'input_tokens': 128, 'output_tokens': 23, 'total_tokens': 151, 'input_token_details': {'audio': 0, 'cache_read': 0}, 'output_token_details': {'audio': 0, 'reasoning': 0}}),\n",
       "  ToolMessage(content='When people search for    “climate change”    \\nin certain languages, they’ll see information panels and \\nvisuals on the causes and effects of climate change, and \\nindividual actions they can take to live more sustainably, \\nprovided by authoritative sources like the United Nations. We’re also engaging with individuals on climate and other \\nenvironmental topics via YouTube. On Earth Day 2022, \\nwe launched a Non-Fungible Planet campaign, where we \\nteamed up with environmental non-profits, creators, and \\nother organizations to show what makes Earth so special \\nand worth protecting. They journeyed to one-of-a-kind \\nlocales and created videos to highlight the stress our \\nenvironment is under and what we can do to help. In 2022, \\nYouTube also held our first ever Creators for Climate Action \\nsummits, one in New York and one with TED Countdown  \\nin London. To stay safe during extreme weather events, people often \\nturn to the internet with questions. For example, global \\nsearch interest in \\n  “heat waves”   reached an all-time \\nhigh in July 2022. 44 To surface authoritative and helpful \\ninformation in these moments, we’re providing information \\nthrough Search alerts on flooding , wildfire boundaries, and \\nextreme heat. More details on how AI enables these alerts \\ncan be found in the Working together section. Recycling points\\nPeople recognize that recycling plays a crucial role in \\npreserving the future of our planet; global searches for  \\n   “recycling”   are the highest of any sustainability action. 45 \\nIn 2021, we launched a new feature that makes it easier for \\npeople to find nearby recycling points on Search and Maps. In addition to providing information on recycling depots \\nand waste transfer stations, we’re also helping small \\nbusinesses share when they offer in-store recycling. By \\nadding the new recycling attribute to Business Profiles on \\nSearch and Maps, local storefronts and shops can show  \\nthe recycling services they offer in just a few clicks—\\nwhether it’s for plastic bottles, packaging, or electronics. Pre-owned items\\nGlobal search interest in    “slow fashion”   reached  \\na 15-year high in 2022. 46 And global searches for  \\n   “thrifting”   have nearly tripled over the most recent \\nthree-year period compared to the previous three-year \\nperiod,\\n\\u200947 reaching a 15-year high in 2022. 48 The apparel \\nindustry is responsible for nearly 7% of global carbon \\nemissions, so clothing choices have a big impact on \\nreducing both waste and emissions. 49 \\nBuying pre-owned items is a small action people can \\ntake to live more sustainably. In 2022, we launched \\nenhancements to the Google Shopping experience in  \\nthe United States for pre-owned products, such as used \\nand refurbished products. The journey \\nahead\\nWhile a single individual’s actions may seem small, when \\nbillions of people have the tools to make more sustainable \\ndecisions, they add up to have a meaningful impact on \\ntheir communities and the entire planet. We’re excited by the opportunity to enable climate and \\nenvironmental action far beyond Google’s direct impact, \\nthrough information and innovation. LEARN MORE\\n • Empowering with technology\\n • Google Maps eco-friendly routing\\n • Searching for sustainability with Google\\n • Supporting a clean energy future with Nest Renew\\n • The search for sustainability\\n\\x0c20\\n2023 Environmental Report  \\nWorking \\ntogether\\nWe’re working together with our \\npartners and customers to advance \\ntechnology for sustainability\\nOur ambition\\nOur approach\\nSupporting partners\\nInvesting in breakthrough \\ninnovation\\nCreating ecosystems for \\ncollaboration\\nThe journey ahead\\n\\x0c21\\n2023 Environmental Report  \\nOur ambition\\nWe believe that Google has a unique \\nopportunity that extends beyond reducing \\nthe environmental impacts of our own \\noperations and value chain. By organizing \\ninformation about our planet and making \\nit actionable through technology and \\nplatforms, we can help partners and \\ncustomers create even more positive impact.\\n\\nFor instance, in the United \\nStates last year, we provided comments to the SEC’s \\nproposed rule on enhanced climate-related disclosures. In Europe, we shared input with the European Commission \\nto support policy measures to make smartphones and \\ntablets, along with other devices, more repairable and \\nsustainable. We also advocated for measures in the EU \\nRenewable Energy Directive to support 24/7 carbon-free \\nenergy supply models that enable companies to source \\nclean energy for their operations. See Figure 27 for a detailed list of our sustainability policy \\nengagements in 2022. A green wall at our inaugural Google European \\nSustainability Summit in Brussels. 80\\n2023 Environmental Report  \\nFIGURE 27\\nGoogle’s policy engagements in 2022\\nGlobal and cross-cutting initiatives\\nPolicy Roadmap for \\n24/7 Energy Policy\\nGoogle launched a policy roadmap for 24/7 CFE, laying out a vision for policies that we believe \\nare critical to accelerating electricity grid decarbonization, informed by our experience as a \\nlarge energy consumer and clean energy purchaser in many different markets around the world. The paper puts forward a detailed policy agenda with three key pillars: 1) rapidly developing and \\ndeploying clean energy technologies, 2) expanding and reforming markets to value carbon-free \\nenergy and drive innovation, and 3) empowering energy consumers. Google at COP-27 \\nUNFCCC Conference\\nGoogle was a financial sponsor of the 2022 Conference of the Parties of the UNFCCC,  \\nin partnership with the Egyptian government and the United Nations, and sent a delegation led  \\nby Chief Sustainability Officer Kate Brandt and VP of Engineering & Research Yossi Matias, along \\nwith a number of senior subject matter experts. Googlers participated in over 50 events and \\nmoments throughout the conference with public sector leaders from the United States, Europe, \\nAfrica, the Middle East, and Asia to call for amplified ambition on climate, and to showcase the  \\nrole that the technology sector can play in enabling climate mitigation and adaptation. United States\\nEngagement on U.S. federal sustainability, climate, and energy policy\\nLegislative branch \\nengagement\\nAs detailed in Google’s lobbying disclosure filings , we conducted lobbying efforts regarding \\nU.S. federal sustainability, climate, and energy policy, including on the Clean Energy for \\nAmerica Act, the CLEAN Future Act, the Infrastructure Investment and Jobs Act, the Clean \\nElectricity Performance Program provisions of the Build Back Better Act, the wholesale market \\nexpansion and reform provisions of the Energy and Water Development and Related Agencies \\nAppropriations Act 2022, and the energy provisions of the Inflation Reduction Act (IRA), all of \\nwhich align with our advocacy for ambitious federal climate and clean energy policies. Google \\nexecutives expressed support for the clean energy and climate provisions in the IRA. Executive branch \\nengagement \\nGoogle had multiple engagements with staff and leadership in the U.S. Environmental \\nProtection Agency (EPA), including 3 Google hosted events with EPA Administrator Michael \\nRegan on environmental justice, how Google products promote recycling within the circular \\neconomy, and using AI to identify lead pipes. At the U.S. Department of Energy, Nest continued \\ndialog with both the Loans Program Office about designation as an innovative product, and \\nOffice of the Under Secretary for Science and Innovation. We also met with the White House  \\non multiple projects, and received invitations to summits for our work on lead pipe reduction \\nand home electrification.\\n\\nU.S. SEC comments \\non proposed rule on \\nEnhancement and \\nStandardization of \\nClimate-Related \\nDisclosures for \\nInvestors\\nIn partnership with nine other peer technology companies, Google provided comments to \\nthe Securities and Exchange Commission’s (SEC) proposed rule on enhanced climate-related \\ndisclosures. The comments state our support for regular and consistent reporting of climate-\\nrelated matters; note that investors need consistent, comparable, and reliable information on \\nthe material risks and impacts of climate-related events and transition activities on a registrant’s \\nconsolidated financial position; and provide guiding principles and recommendations for the SEC \\nto consider as it designs a final rule. U.S. Federal \\nEnergy Regulatory \\nCommission \\ncomments on \\nimproving generator \\ninterconnection\\nGoogle filed comments (initial and reply) in Improvements to Generator Interconnection \\nProcedures and Agreements (interconnection) Notice of Proposed Rulemaking. Our comments \\nemphasize the importance of reforms that allow independent power producers to continue \\nto thrive and deploy new clean energy resources to meet customer demand. In particular, we \\nadvocate for greater transparency in non-RTO (Regional Transmission Organization) regions \\nand penalties for delays to interconnection studies. U.S. Department of \\nEnergy comments \\non Clean Hydrogen \\nProduction Standard\\nGoogle filed comments on the Clean Hydrogen Production Standard draft guidance. In \\nparticular, we highlighted the need for strong quality criteria—hourly temporal correlation, \\ngeographic correlation, and additionality—to ensure that grid-based clean hydrogen is \\nproduced using clean electricity. Engagement with coalitions and sustainability initiatives\\nSupporting the U.S. State Department’s \\nClean Energy Demand \\nInitiative (CEDI)\\nGoogle.org provided a philanthropic grant to support the establishment of the Secretariat of \\nthe U.S. State Department’s Clean Energy Demand Initiative within the Clean Energy Buyers \\nAssociation. CEDI is an initiative led by the U.S. government that aims to connect countries with \\ncompanies seeking to rapidly deploy clean energy, enabling companies to send demand signals \\nfor clean energy and advance policy measures that enable corporate clean energy procurement. Electricity customer \\ncoalitions\\nTogether with business partners, Google helped launch three trade groups and campaigns  \\nto support the creation of customer-centric wholesale electricity markets across the  \\nUnited States, with the goal of enabling rapid decarbonization of electricity grids while  \\nreducing costs. These include Western Freedom, Coalition for Energy Market Reform,  \\nand Electricity Customers Alliance . U.S. state engagement\\nUtility regulation Google intervened in over 30 regulatory dockets across the United States with coalition \\npartners to promote the cost-effective adoption of clean energy resources. Regulatory \\nframeworks for \\ndecarbonization\\nGoogle led discussions with the National Association of Regulatory Utility Commissioners and \\nthe National Association of State Energy Officials to discuss how Google’s 24/7 CFE goal can be \\na supportive framework to drive cost-effective grid decarbonization. 81\\n2023 Environmental Report  \\nEurope\\nEngagement on European sustainability, climate, and energy policy\\nEnergy Efficiency \\nDirective\\nGoogle engaged with EU policy makers through Digital Europe to inform the development of \\na standardized energy and sustainability reporting framework for data centers, and establish \\nmeasures to encourage greater reuse of waste heat. Renewable Energy \\nDirective\\nGoogle worked through Digital Europe and RE-Source to advocate for the inclusion of time-\\nstamping for Guarantees of Origin in the EU Renewable Energy Directive, enabling hourly \\ncarbon-free energy matching and greater transparency of clean energy claims. Google also \\norganized an industry letter encouraging the European Commission to issue strong rules that \\nmaintain the environmental integrity of grid-based hydrogen production. Circular economy \\necodesign regulations \\non smartphones and \\ntablets\\nGoogle responded to public consultation in September 2022, providing technical feedback on \\nthe EU ecodesign regulations on smartphones and tablets. Sustainable \\nconsumption of \\npublic goods (e.g., \\n“right to repair”)\\nGoogle submitted comments to the European Commission’s public consultation regarding \\nthe promotion of repair and reuse of goods. We shared our views on the core principles to \\nconsider when introducing policy measures to promote repair and reuse horizontally, and for \\nsmartphones and tablets specifically. Body of European \\nRegulators \\nfor Electronic \\nCommunications \\n(BEREC)\\nGoogle responded to a questionnaire  by BEREC in view of the development of key performance \\nindicators to characterize the environmental impact of electronic communications, networks, \\ndevices, and services. We provided information about our environmental reporting practices \\nand suggestions to help identify which indicators would provide relevant environmental \\ninformation. Engagement with coalitions and sustainability initiatives\\nRE-Source Platform\\nGoogle is a strategic partner and steering committee member of the RE-Source Platform, the \\nEuropean platform for corporate renewable energy sourcing. Through its policy advocacy \\nand resources for renewable energy buyers, RE-Source seeks to remove barriers to corporate \\npurchasing of renewable energy in support of Europe’s climate and energy goals. Asia-Pacific\\nAsia Clean Energy \\nCoalition (ACEC)\\nAs a founding member, Google helped launch ACEC at COP-27 to work together with other \\ncompanies and organizations to accelerate corporate clean energy sourcing and help \\ndecarbonize electrical grids in the region. Asia-Pacific Economic \\nCooperation (APEC)\\nGoogle supported an APEC Energy Working Group project, sponsored by the U.S. Department \\nof Energy and the Pacific Northwest National Laboratory. The project led to a report  that \\nsummarized key insights and recommendations shared during two workshops, highlighting \\nways governments and the private sector can lead and partner to accelerate power system \\ndecarbonization across the region. Australia - \\nClean Energy \\nDemand Initiative \\nMemorandum of \\nUnderstanding\\nGoogle signed onto an MOU between Australia Climate Change and Energy Minister Chris \\nBowen and U.S. Special Presidential Envoy for Climate John Kerry, focused on breaking down \\nbarriers to enable corporate clean energy procurement in Australia. Australia - AI \\nand blue carbon \\ncollaboration\\nGoogle partnered with the Australian Government’s national science and research agency, the \\nCommonwealth Scientific and Industrial Research Organisation, and the Department of Foreign \\nAffairs and Trade on a project to explore novel applications of AI to measure, with greater \\nefficiency and accuracy, the capacity of seagrass ecosystems to absorb and sequester carbon \\nin the Indo-Pacific. Australia - Climate \\nChange Bill\\nGoogle provided a public submission and statement of support on the Climate Change Bill 2022 \\nand the Climate Change (Consequential Amendments) Bill 2022, which passed the Australian \\nParliament on September 8th, 2022. The former outlines Australia’s GHG emissions reduction \\ntargets of 43% reduction from 2005 levels by 2030, and net zero by 2050. The latter makes \\nconsequential amendments to incorporate Australia’s GHG emissions reduction targets under \\nthe Paris Agreement into legislation for relevant Commonwealth entities and schemes. 82\\n2023 Environmental Report  \\nTrade associations and \\nthird-party groups\\nWe belong to many sustainability-focused third-party \\ngroups through which we engage on sustainability policy \\nissues around the world—for example, organizations like \\nthe American Clean Power Association, the European \\nClimate Neutral Data Center Pact, RE100, the Asia Clean \\nEnergy Coalition, and many more. In addition, we’ve \\nhelped to found organizations such as the Clean Energy \\nBuyers Association and the United Nations 24/7 Carbon-\\nFree Energy Compact. See Figure 28 for more\\xa0details. FIGURE 28\\nGoogle’s sustainability-focused trade associations and memberships\\n• Advanced Energy United \\n• Advanced Energy Buyers Group\\n• Advanced Power Alliance\\n• Alliance to Save Energy\\n• American Clean Power Association \\n• American Council on Renewable Energy\\n• Americans for a Clean Energy Grid\\n• Asia Clean Energy Coalition\\n• Business Alliance to Scale Climate Solutions\\n• Carolinas Clean Energy Business Association \\n• Business Environment Leadership Council of \\nthe Center for Climate and Energy Solutions \\n• Clean Energy Buyers Association \\n• Clean Energy Demand Initiative \\n• Clean Grid Alliance \\n• Conservation Voters of South Carolina \\n• Digital Europe\\n• Energy Alabama\\n• Energy Tag\\n• Glasgow is Our Business\\n• Japan Climate Leaders Partnership \\n• Marktoffensive Erneuerbare Energien\\n• North Carolina Sustainable Energy Association \\n• RE100\\n• RE-Source\\n• Resources for the Future\\n• Renewable Northwest\\n• Smart Electric Power Alliance \\n• SolarPower Europe\\n• We Are Still In\\n• WindEurope\\nWe’re also members of the U.S. Chamber of Commerce, \\nBusiness Roundtable, and other business trade \\nassociations, where we’re engaged in climate and energy \\npolicy issues. For example, we’re founding members \\nof the Chamber’s Task Force on Climate Actions, and \\nwe’ve engaged within the Task Force since its inception \\nto support constructive engagement by the Chamber \\non climate policy to create a zero-carbon economy. We \\nalso participate in staff-level discussions on the Business \\nRoundtable’s Energy and Environment committee. We respect the independence and agency of trade \\nassociations and third parties to shape their own policy \\nagendas, events, and advocacy positions. Our sponsorship \\nor collaboration with a third-party organization doesn’t \\nmean that we endorse the organization’s entire agenda, \\nits events or advocacy positions, nor the views of its \\nleaders or members. We assess the alignment of our \\ntrade association participation with the goals of the Paris \\nAgreement, and engage within organizations to support \\nadvocacy for climate policies needed to limit warming to \\n1.5°C and create a prosperous and competitive  \\nzero-carbon economy. We’re in dialogue with our trade \\nassociations to encourage alignment between our \\ncore public policy objectives and their policy advocacy \\nactivities, including on climate change. With our Bay View campus, we paid careful attention to the characteristics of the spaces you can see and feel,  \\nlike materials and daylight, but also to aspects that are harder to see, like air quality, thermal comfort, and acoustics. 83\\n2023 Environmental Report  \\nPartnerships\\nGoogle partners with many organizations to accelerate progress towards shared sustainability goals. Examp\\nles of some key partnerships are in Figure 29. FIGURE 29\\nOrganization Details\\n24/7 Carbon-Free \\nEnergy Compact\\nIn 2021, we helped launch  the 24/7 Carbon-Free Energy Compact in partnership with Sustainable Energy for All \\nand UN-Energy  to help grow the movement to enable zero-carbon electricity. In 2022, the compact surpassed \\n100 signatories. Bonneville \\nEnvironmental \\nFoundation (BEF)\\nGoogle has partnered closely with BEF since 2019 to kick off the implementation of our water strategy. In support \\nof our 2030 replenishment and watershed health goals, it helped us to identify and support impactful water \\nreplenishment and watershed health projects globally, with a variety of local organizations and partners. Business for Social \\nResponsibility (BSR)\\nGoogle has been a member of BSR for many years and is one of a few select Spark members . We participate in \\na number of BSR collaboration initiatives, and one of our senior leaders sits on its board. C40 Cities\\nC40 and Google launched  the 24/7 Carbon-Free Energy for Cities program to empower cities around the world \\nto run entirely on clean energy, and the program will soon be expanded into Africa with grant support from \\nGoogle.org. C40 is a strategic partner of Google’s Environmental Insights Explorer, using its environmental data \\nand insights to help support its network of nearly 100 world-leading cities collaborating to deliver urgent action \\nto confront the climate crisis. Coalition to End \\nWildlife Trafficking \\nOnline\\nIn 2018, 21 companies joined Google in launching the Coalition to End Wildlife Trafficking Online, collectively \\ncreating a wildlife policy framework for online trade and an industry-wide approach to reduce online wildlife \\ntrafficking. The coalition unites the tech industry to standardize prohibited wildlife policies, better detect illicit \\nwildlife products, enhance automated detection filters, and empower users to report suspicious listings. CDP (formerly \\nknown as the Carbon \\nDisclosure Project)\\nIn addition to reporting our carbon footprint to CDP since 2009, we’ve partnered with CDP to host its annual \\nconference, a hack-a-thon, and to launch CDP scores in Google Finance, making corporate carbon disclosure \\ninformation more widely available. Clean Energy Buyers \\nAssociation (CEBA)\\nGoogle was actively involved in the creation of CEBA in 2018, chairing the Interim Board of Directors during its \\ntransition from an NGO-led effort into a corporate-led trade association. A Google representative continues to \\nserve as the Board Chair of this organization. Google provided initial financial support for the development of the \\norganization and in 2022, Google.org provided a $1 million grant to support CEBA’s international expansion. Climate Neutral Data \\nCentre Pact (CNDCP)\\nGoogle helped establish the Climate Neutral Data Centre Pact, a coalition of European data center operators who \\ncommit to a set of voluntary sustainability targets to set them on a path toward climate neutrality. Ellen MacArthur \\nFoundation (EMF)\\nGoogle is a partner of the Ellen MacArthur Foundation, having joined the foundation’s network in 2015, and has co-\\nauthored a number of thought leadership white papers and case studies in areas such as safer chemistry,  \\nthe deconstruction and reuse of commercial office buildings, electronics, and AI. Environmental \\nDefense Fund (EDF)\\nGoogle has partnered with EDF to map air quality using Street View cars in the U.S., Europe, and Southeast Asia, \\nand to detect methane leaks in cities since 2011. European 24/7 Hub\\nGoogle supported the launch of the European 24/7 Hub with Eurelectric, which provides education on the  \\n“what, why, and how” of 24/7 carbon-free energy buyers and suppliers in Europe. Google spoke at the  \\nlaunch event during European Sustainable Energy Week. European Climate \\nPact\\nGoogle was among the leading businesses that joined the European Climate Pact in its inaugural year to share our \\ncommitment to help achieve a climate neutral Europe. European Green \\nDigital Coalition \\n(EGDC)\\nGoogle is an active member of the EGDC—a group of technology companies committed to supporting the  \\ngreen and digital transformation of the EU. As a member, Google participates in the initiative, designed to \\nharness the emission-reducing potential of digital solutions for all other sectors, and support green and digital \\ntransformations in the EU. Organization Details\\nExponential Roadmap \\nInitiative\\nIn 2021, we joined the Exponential Roadmap Initiative and the U.N. Race to Zero Campaign , the largest ever \\nalliance committed to halving emissions before 2030 towards net-zero emissions by no later than 2050. First Movers Coalition\\nAt the World Economic Forum Annual Meeting in 2022, Google joined  the First Movers Coalition . As a champion \\nfor the Carbon Dioxide Removal sector , Google committed to contract for durable and scalable net carbon \\ndioxide removal to be achieved by the end of 2030. Frontier\\nIn 2022, we committed $200 million to Frontier, an advanced market commitment that will accelerate the \\ndevelopment of carbon removal technologies by guaranteeing future demand. We were one of five companies \\nthat made a $925 million total pledge to Frontier.\\n\\nThe response \\ncalls for systemic, global action to reduce emissions, \\nimprove watershed health, maximize the reuse of finite \\nresources, and protect biodiversity. Since Google was founded, our efforts to mitigate climate \\nchange have started with our own operations, and we’ve \\nworked hard to lead by example with the ultimate goal \\nof driving larger systemic change. In our third decade \\nof climate action, we’ll continue to take a science-based \\napproach to our efforts, while sharing our own lessons \\nand progress with others. I joined Google eight years ago to lead our sustainability \\nefforts, and have witnessed our sense of urgency and \\nambition firsthand. We’re empowering individuals, \\ngovernments, businesses, and other organizations to \\nmake decisions that can drive positive action for people \\nand our planet. The opportunity we have through our products and \\nplatforms is reflected in our updated environmental \\nsustainability strategy, which focuses on where we can \\nmake the most significant positive impact. Our work \\nis organized around three key pillars: empowering \\nindividuals to take action, working together with \\nour partners and customers, and operating our \\nbusiness\\xa0sustainably. In 2022, we reached our goal to help 1 billion people \\nmake more sustainable choices through our products. We achieved this by offering sustainability features like \\neco-friendly routing in Google Maps, energy efficiency \\nfeatures in Google Nest thermostats, and carbon \\nemissions information in Google Flights. Looking ahead, \\nour aspiration is to help individuals, cities, and other \\npartners collectively reduce 1 gigaton of their carbon \\nequivalent emissions annually by 2030. 2\\nAfter two years of condensed reporting, we’re sharing a \\ndeeper dive into our approach in one place in our 2023 \\nEnvironmental Report. In 2022, we continued to make \\nmeasurable progress in many key ways, such as:\\n• We enhanced and launched new sustainability\\nproduct features, such as eco-friendly routing in\\nMaps, which is estimated to have helped prevent\\nmore than 1.2 million metric tons of carbon emissions\\nfrom launch through 2022—equivalent to taking\\napproximately 250,000 fuel-based cars off the road\\nfor a year. 3\\n• We expanded the availability of Google Earth\\nEngine—which provides access to reliable, up-to-\\ndate insights on how our planet is changing—to\\ninclude businesses and governments worldwide as an\\nenterprise-grade service through Google Cloud. • We opened our new Bay View campus, which is\\nall-electric, net water-positive, restores over 17 acres\\nof high-value nature, and incorporates the leading\\nprinciples of circular design. • We signed 20 more renewable energy agreements,\\nbringing our total to more than 80 agreements\\ntotaling approximately 10 GW of clean energy\\ngeneration capacity—we estimate we’ll spend\\napproximately $10 billion to purchase clean energy\\nthrough 2040. 4\\nWe expect this new era of technological innovation to \\nopen up even greater opportunities to accelerate system-\\nlevel change.\\n\\nBusiness strategy\\nC15. Biodiversity\\nDenotes sections that contain elements of our climate transition plan\\n\\x0c100\\n2023 Environmental Report  \\nSUPPLY CHAIN Frameworks\\nEnvironmental disclosure \\ncategory Topic 2023 Environmental Report location CDP Climate TCFD SASB\\nGovernance and oversight\\nOur strategy  • Operating sustainably - Our operations; Net-zero carbon - Reducing carbon emissions - \\nSupplier engagement C12. Engagement\\nBoard and/or management oversight • Governance and engagement C12. Engagement\\nManagement approach\\nApproach to supply chain risk environmental assessments and audits • Governance and engagement - Stakeholder engagement - Supplier engagement\\nIntegration of environmental factors within procurement policies  \\nand supplier contracts\\n• Operating sustainably - Net-zero carbon - Our approach - Reducing carbon emissions -  \\nSupplier engagement\\n• Governance and engagement - Risk management\\nC12. Engagement\\nApproach to supplier capacity building, training, and corrective  \\naction plans\\n• Operating sustainably - Net-zero carbon - Our approach - Reducing carbon emissions - \\nSupplier engagement; Circular economy - Our approach - Working with suppliers - Safer \\nchemistry\\n• Governance and engagement - Risk management; Stakeholder engagement - Supplier \\nengagement\\nEngagement with external targets and initiatives related to sustainable \\nsupply chains \\n• Working together - Our approach - Supporting partners - Cloud customers and  \\ncommercial partners\\n• Governance and engagement - Partnerships\\nC12. Engagement\\nGoals and targets Supplier environmental assessment-related targets • Introduction - Targets and progress summary\\n• Operating sustainably - Circular economy - Our approach - Working with suppliers\\nPerformance indicatorsNew suppliers that were screened using environmental criteria • Governance and engagement - Risk management C12. Engagement\\nSupplier renewable energy • Operating sustainably - Net-zero carbon - Our approach - Advancing carbon-free energy - \\nCFE investments C2. Risks and opportunities\\nNegative environmental impacts in the supply chain and actions taken • Operating sustainably - Circular economy - Supply chain \\n• Governance and engagement - Risk management\\nDenotes sections that contain elements of our climate transition plan\\n\\x0c101\\n2023 Environmental Report  \\nEndnotes\\n1 Throughout this report, we use the term “sustainability” to refer to \\nenvironmental sustainability. 2 Our partners include governments and intergovernmental organizations; \\ncustomers and commercial partners; and researchers, academics, and \\nnon-governmental organizations.\\n\\nGeological Survey. Operating sustainably:  \\nA view of our Bay View campus with the events center in the foreground \\nand a Google brandmark sculpture. (Photo: Iwan Baan)\\nNet-zero carbon:  \\nGolden Hills wind farm in California (43 MW for Google)\\nWater stewardship:  \\nOur Bay View campus, as seen from across its stormwater retention pond. (Photo: Iwan Baan)\\nCircular economy:  \\nA closeup of many small, broken circuit boards in a pile. Our approach \\nto circularity for data center equipment is to maintain components for \\nas long as possible, refurbish components for future reuse, reuse or \\nresell components following a rigorous security process, and recycle any \\ncomponents that can’t be reused. Nature and biodiversity:  \\nThe design of the Charleston Retention Basin on our Mountain View \\nCampus allows visitors to experience, learn about, and enjoy the expanded \\nriparian habitat. Governance and engagement:  \\nGooglers collaborate in a common space in one of our offices. Appendix:  \\nA bright, colorful wall in a Google office. Environmental \\nReport\\n2023\\nWant to learn more about our  \\nlatest efforts?\\n\\nWe’re also funding \\nwork to bring this approach to parts of San Francisco and New York City. ARIZONA\\nSurface water diversions from the Colorado River make up the primary \\nsource of irrigation water supply for the Colorado River Indian Tribes \\n(CRIT) reservation and CRIT farms. We’re working with the Bonneville \\nEnvironmental Foundation to fund the CRIT to support irrigation \\ninfrastructure efficiency  by lining a leaky earthen irrigation canal—\\nreducing seepage loss and water diversion demands in the Colorado \\nRiver watershed. MEXICO\\nIn Mexico City, Google partnered with Isla Urbana to provide households \\nthat don’t currently have reliable potable water connections to their \\nhomes with a source of easily accessible potable water via rainwater \\nharvesting and potabilization systems . We also partnered with \\nPronatura to support a comprehensive watershed study along with \\nthe implementation of multiple water management practices , \\nincluding reforestation, the creation of a percolation pond to increase \\ngroundwater infiltration, and restoration activities to improve soil health. UNITED KINGDOM\\nWe partnered with the Bonneville Environmental Foundation to fund \\nThames21 to support the creation of a system of wetlands that will \\nintercept and filter water at Chinbrook Meadows park before it enters \\nthe River Quaggy and the greater Thames River watershed, improving \\nwater quality with the added benefits of flood protection, climate \\nadaptation, and recreation opportunities. INDIA\\nWe’re working with United Way of Hyderabad to restore the \\nMullakathuva Lake  in northwest Hyderabad, with CLEAN International \\nto reopen 20 wells across three cities, and with WaterAid to provide \\nwater, sanitation, and hygiene access to nearly 9,000 local residents \\nin Hyderabad communities. These projects not only support our \\nreplenishment and water security goals, they also help strengthen  \\npublic health in the communities that make up an important part of our \\nglobal workforce. CHILE\\nGoogle partnered with the Bonneville Environmental Foundation on two \\ninitiatives to improve watershed health in Chile’s Maipo Basin. We provided \\nfunding to our implementation partner, Kilimo, to scale up precision \\nirrigation using AI to support increased agricultural productivity, maintain \\nor improve natural pest control, protect groundwater and surface water \\nresources, and reduce water demand across 260 hectares of farmland. Google also supported The Nature Conservancy’s efforts to monitor, \\nprotect, and improve the management of the High Andean wetlands, \\nwhich offer many climate and water resilience benefits, as well as advocate \\nfor its large-scale protection. Legend\\nLand conservation and restoration (7 projects)\\nWater supply reliability (7 projects)\\nWater, sanitation, and hygiene (WASH) (5 projects)\\nAquatic habitat restoration (11 projects)\\nWater quality (8 projects)\\n\\x0c54\\n2023 Environmental Report  \\nSupporting water security with \\ntechnology\\nSupporting global water security needs collective action. Global search interest in      “water security”   more than \\ndoubled in 2022,\\u2009103 reaching a 15-year high in 2022. 104  That’s \\nwhy we’re putting Google’s products and technology in \\nservice of helping others study and respond to water security \\nchallenges. We work on getting environmental information \\non the world’s forests, fisheries, watersheds, and air into the \\nhands of decision-makers, in support of our aims to both \\naddress a key need for informed decision-making, and to \\nsupport efforts to scale models and solutions that make \\nwater resource information visible and actionable. Google.org has also awarded millions of dollars in grants  \\nto promising water stewardship solutions, including:\\n • BlueConduit, to develop publicly accessible tools \\nto quantify and map hazardous lead service lines \\nfor vulnerable communities, a critical first step to \\nreplacing unsafe water infrastructure. • Global Water Watch, which aims to democratize \\ninformation on water resources.\\n\\nWe actively \\nengage with our stakeholders (e.g., employees, NGOs, \\npolicymakers, customers, researchers, academics, \\nand investors) throughout the year on a broad range of \\nenvironmental topics. Our engagement enables us to better understand \\nour stakeholders’ perspectives, elaborate on our \\nenvironmental strategy, and progress against key targets, \\nand it creates a vital two-way dialogue that informs our \\napproach to the work. See below for more information on how we engage \\nwith employees, suppliers, policymakers, and partners. For additional information on how we collaborate with \\ncustomers, researchers, academics, and NGOs, see the \\nWorking together section. Employee \\nengagement\\nSustainability is part of our culture, and we give our \\nemployees opportunities to engage on environmental \\nissues and put their passions into practice. To celebrate Earth Day, we host an annual virtual event \\nfor employees to learn more about what Google is doing \\nto empower people to make more sustainable choices, \\nsupport our partners and customers, and operate our \\nbusiness more sustainably. Throughout the year, we \\ninvite thought leaders and experts to speak about the \\nlatest sustainability trends, and we post some of these \\ntalks publicly on our Talks at Google YouTube channel. Employees can also access online sustainability courses \\nand can join global and local internal community groups \\nfocused on sustainability topics. Some employees \\nalso take on a 20% project—an opportunity to work \\non something outside of their primary role—related \\nto sustainability. One great example of this is Project \\nSunroof, which began as a 20% project back in 2015. Lastly, employees have the opportunity to learn about \\nsustainability through internal newsletters and education \\ncampaigns. Supplier \\nengagement\\nThrough our supplier responsibility  program, we’re \\nworking to build an energy-efficient, low-carbon, \\ncircular supply chain that makes smart use of the Earth’s \\nresources, protects ecosystems, and helps to combat \\nclimate change. We focus on the areas where we can \\nmake an immediate and lasting impact, such as helping \\nour suppliers improve their environmental performance \\nand integrate inclusivity, climate resilience, water \\nstewardship, and circular design into our supply chain. We believe these principles can play a key role in reducing \\nenvironmental impact and protecting human rights and \\ncommunity health. Google’s Supplier Code of Conduct includes requirements \\nthat enable us to ensure that those we partner with are \\nresponsible environmental stewards. Along with having \\nsuppliers evaluate their operations, we perform our own \\nongoing due diligence and audits to verify compliance and \\nto understand our supply chain’s current and potential risks. When we find that a supplier isn’t complying, we expect \\nthat supplier to provide a corrective action plan (CAP) that \\noutlines the root cause of the finding, how and when that \\ncompany will resolve the issue, and what steps it will take \\nto prevent recurrence. We determine whether the plan is \\nacceptable based on the severity of the noncompliance \\nand the effort and time required to resolve the issue. We expect suppliers to demonstrate improvements to \\ncontinue working with us. Our goal is to resolve the most \\nsevere issues immediately. We expect all other findings to \\nbe resolved in accordance with our guidelines as quickly \\nas is practical. While we work with our suppliers to help \\nthem address our findings, in some instances, we may \\ndecide to no longer pursue a relationship or to terminate \\nour current relationship. In 2022, we audited a subset of our suppliers to verify \\ncompliance for the following environmental criteria: \\nimplementation of environmental management \\nsystems, environmental permits and reporting, product \\ncontent restrictions, and resource efficiency, as well as \\nmanagement of hazardous substances, wastewater,  \\nsolid waste, and air emissions. Googlers chat among indoor plants at our Pier 57 office in New York City. 79\\n2023 Environmental Report  \\nPublic policy and advocacy\\nWe know that strong public policy action is critical to \\ncreating prosperous, equitable, and resilient low-carbon \\neconomies around the world. The United Nations Framework Convention on Climate \\nChange (UNFCCC)’s 2015 Paris Agreement states that \\nhumanity must “keep global temperature rise this century \\nwell below 2°C above pre-industrial levels.”\\n\\u2009143 Google \\nremains unwavering in our commitment to the Paris \\nAgreement, because climate scientists are clear: we have \\nuntil 2030 to chart a sustainable course for our planet, or \\nwe’ll face the worst consequences of climate change. 144 \\nIn 2022, we saw major steps forward on climate policy in \\nthe United States, Europe, and other regions. New policy \\nmeasures and corporate commitments will continue to play \\nan important role in driving emissions reductions in the next \\ndecade. See Figure 26 for our position on climate policy. FIGURE 26\\nOur position on climate policy\\nAt Google, we support public policies that:\\n• Strengthen global climate action efforts through the Paris Agreement, G20, and other multilateral\\nforums to enhance international cooperation on climate. • Establish emissions reduction targets and technology-neutral pathways  to achieve a low-carbon\\neconomy in line with the IPCC’s guidance and scientific consensus.\\n\\nThe threat is now \\nmore immediate, but the world is also taking action—from \\ngovernmental policy and technology innovation to actions \\nby individuals and organizations—driven by a broader \\nawareness of the danger. I worked on Search for 20 years, leading the product for \\nmany of those, and learned a lot about the unique impact \\nGoogle can have on the world. I’ve always been proud \\nof Google’s leadership in pushing the boundaries of \\nsustainability in our data centers, including achieving carbon \\nneutrality in 2007 (at the time, such accomplishments were \\nuncommon). Going further, we’ve matched 100% of our \\nglobal electricity use with renewable energy purchases for \\nthe last six years—a goal that seemed almost crazy when \\nwe set it in 2012. Today our ambitions have evolved—we now have a bold \\ngoal to achieve net-zero emissions across all of our \\noperations and value chain, and as part of that goal, to \\nrun on 24/7 carbon-free energy on every grid where we \\noperate. The path to get to these goals is difficult, and we’re \\ncommitted to working through the challenges we face with \\nthe ultimate aim of driving larger systems change to create \\na more sustainable future. Further, predicting the future \\ngrowth of energy use and emissions from AI compute in our \\ndata centers is difficult. Despite this, we remain focused on \\ndeveloping new ways to make AI computing more efficient \\nwhile leveraging the opportunities that AI presents to have \\na positive environmental impact. Beyond our own footprint, Google’s founding mission—\\n“Organize the world’s information and make it universally \\naccessible and useful”—can play a very important role in \\naccelerating progress in climate information and action. A sustainable future will be built upon billions of decisions \\nmade by governments, organizations, and individuals, \\nwhich will need to be grounded in good information. Increasingly, we see through Google Trends that more \\nand more people are looking for ways to live sustainably. I believe that we have many strengths and capabilities in \\nproviding quality information that people are seeking to \\nmake decisions that’ll drive positive action for our planet. Helpful information can be critical in both efforts to reduce \\nemissions as well as adapt to extreme climate events like \\nfloods, wildfires, and heat waves. But this information often \\nlives in silos and is hard to access. Making the information \\naccessible and useful can be a tough technical challenge. Our products like Environmental Insights Explorer, Earth \\nEngine, and Data Commons are key solutions to support \\nthe decisions that cities and organizations will have to \\nmake. Information can also have a significant impact \\non the decisions of individuals—particularly in the areas \\nof home energy and transportation. Our products like \\nMaps, Search, and Nest reach billions of users around the \\nworld, and we’re building many features to respond to the \\ndemand for that information in our products. Given the scale of the problem, innovation will also be \\nkey to getting us to a better future. In order to push the \\nfrontiers of innovation, Google has long had a world-class \\nresearch organization that’s been at the forefront of AI and \\nmachine learning. These solutions can help in predicting \\nmore extreme weather (flood forecasting, for instance), \\noptimizing systems from traffic lights to car routes, and \\nmitigating climate change in new ways, for example. In our 2023 Environmental Report, we’re highlighting how \\nthese themes of information and innovation run through \\nmuch of our work:\\nFor information, we’ll feature Google Trends \\ninsights alongside key initiatives to show \\nhow our work is informed by societal trends \\nand\\xa0expectations. And for innovation, we’ll call out the many  \\nplaces where AI is helping to break down  \\nbarriers and advance our work. Over my tenure at Google, I’ve seen how we’ve been \\nworking to integrate sustainability into our work. This \\ntransition is going to be challenging—both for us and for \\nthe world at large—and there’s no playbook for making \\nit happen. But we see our efforts as part of a bigger \\npicture, setting our goals to help scale global solutions, \\nand I’m optimistic that we can, through our efforts in both \\ninformation and innovation, play a helpful role in building a \\nmore sustainable and resilient future. Benedict  Gomes\\nBenedict Gomes\\nSVP, Learning & Sustainability\\nGoogle\\nBy making information accessible and \\naccelerating innovation, we can help \\ncreate a more sustainable future. 5\\n2023 Environmental Report  \\nA letter from our  \\nChief Sustainability Officer\\nI grew up in Muir Beach, California, and was fortunate \\nto spend my childhood exploring its beautiful redwood \\nforests and vibrant tidepools with my family. Today, I’m \\nraising my daughter in these same special places, but now \\nthese delicate ecosystems are threatened, just like many \\nother parts of the world.', name='retrieve_google_environmental_information_for_question_answering', id='af774ca0-306d-4149-a06e-4ed188a61988', tool_call_id='call_Bam4IQBL7GobVdWLi6gw3d50'),\n",
       "  HumanMessage(content='Google has implemented a variety of environmental initiatives aimed at addressing climate change and promoting sustainability. Here are some key aspects of their efforts:\\n\\n1. **Information and Awareness**: Google provides users with information panels and visuals on climate change when they search for related terms. This includes insights on the causes and effects of climate change, as well as actionable steps individuals can take to live more sustainably. They collaborate with authoritative sources like the United Nations to ensure the information is credible.\\n\\n2. **YouTube Engagement**: The company engages users on environmental topics through YouTube. For instance, on Earth Day 2022, Google launched the \"Non-Fungible Planet\" campaign, partnering with environmental non-profits and creators to highlight the importance of protecting unique ecosystems and the stress they face.\\n\\n3. **Sustainability Features in Products**: Google has introduced features in its products to promote sustainable choices. For example, Google Maps now includes eco-friendly routing options, which have reportedly helped prevent over 1.2 million metric tons of carbon emissions. Additionally, Google Flights provides carbon emissions information to help users make informed travel decisions.\\n\\n4. **Recycling Initiatives**: In 2021, Google launched a feature to help users find nearby recycling points through Search and Maps. This includes information on recycling depots and local businesses that offer recycling services, making it easier for individuals to participate in recycling efforts.\\n\\n5. **Support for Pre-Owned Products**: Recognizing the growing interest in sustainable fashion, Google enhanced its shopping experience to promote pre-owned and refurbished products, encouraging consumers to make more sustainable purchasing decisions.\\n\\n6. **Policy Advocacy**: Google actively engages in policy discussions to support climate-related legislation. They have provided comments to the U.S. Securities and Exchange Commission on climate-related disclosures and have advocated for clean energy policies in the U.S. and Europe.\\n\\n7. **Partnerships and Collaborations**: Google collaborates with various organizations to advance sustainability goals. This includes partnerships with the Ellen MacArthur Foundation, C40 Cities, and the Clean Energy Buyers Association, among others, to promote clean energy and circular economy practices.\\n\\n8. **Commitment to Renewable Energy**: Google has committed to running on 24/7 carbon-free energy in all its operations and has signed numerous renewable energy agreements, aiming to significantly reduce its carbon footprint.\\n\\n9. **Water Stewardship**: Google is involved in various water stewardship projects globally, focusing on improving water supply reliability and watershed health through partnerships with local organizations.\\n\\n10. **AI and Technology for Sustainability**: Google leverages its technological capabilities, particularly in AI, to address environmental challenges. This includes using AI for better resource management and to enhance the efficiency of energy use in its data centers.\\n\\nOverall, Google\\'s environmental initiatives reflect a comprehensive approach that combines technology, information dissemination, product innovation, and policy advocacy to foster a more sustainable future. Their goal is to empower individuals and organizations to make informed decisions that contribute to environmental sustainability.', additional_kwargs={}, response_metadata={}, id='1df84bfa-5b8d-467c-9afb-7daba4f42fdb')]}"
      ]
     },
     "execution_count": 11,
     "metadata": {},
     "output_type": "execute_result"
    }
   ],
   "source": [
    "user_query = \"What are Google's environmental initiatives?\"\n",
    "\n",
    "# Initialize the state with the user query\n",
    "inputs = {\n",
    "    \"messages\": [HumanMessage(content=user_query)]\n",
    "}\n",
    "# Run the workflow\n",
    "result = graph.invoke(inputs)\n",
    "result"
   ]
  },
  {
   "cell_type": "code",
   "execution_count": null,
   "id": "fa963688",
   "metadata": {},
   "outputs": [
    {
     "name": "stdout",
     "output_type": "stream",
     "text": [
      "Agent message about tool calls: \n",
      " [{'name': 'retrieve_google_environmental_information_for_question_answering', 'args': {'query': 'Google environmental initiatives'}, 'id': 'call_Bam4IQBL7GobVdWLi6gw3d50', 'type': 'tool_call'}]\n",
      "\n",
      "---FINAL RESULT---\n",
      "Google has implemented a variety of environmental initiatives aimed at addressing climate change and promoting sustainability. Here are some key aspects of their efforts:\n",
      "\n",
      "1. **Information and Awareness**: Google provides users with information panels and visuals on climate change when they search for related terms. This includes insights on the causes and effects of climate change, as well as actionable steps individuals can take to live more sustainably. They collaborate with authoritative sources like the United Nations to ensure the information is credible.\n",
      "\n",
      "2. **YouTube Engagement**: The company engages users on environmental topics through YouTube. For instance, on Earth Day 2022, Google launched the \"Non-Fungible Planet\" campaign, partnering with environmental non-profits and creators to highlight the importance of protecting unique ecosystems and the stress they face.\n",
      "\n",
      "3. **Sustainability Features in Products**: Google has introduced features in its products to promote sustainable choices. For example, Google Maps now includes eco-friendly routing options, which have reportedly helped prevent over 1.2 million metric tons of carbon emissions. Additionally, Google Flights provides carbon emissions information to help users make informed travel decisions.\n",
      "\n",
      "4. **Recycling Initiatives**: In 2021, Google launched a feature to help users find nearby recycling points through Search and Maps. This includes information on recycling depots and local businesses that offer recycling services, making it easier for individuals to participate in recycling efforts.\n",
      "\n",
      "5. **Support for Pre-Owned Products**: Recognizing the growing interest in sustainable fashion, Google enhanced its shopping experience to promote pre-owned and refurbished products, encouraging consumers to make more sustainable purchasing decisions.\n",
      "\n",
      "6. **Policy Advocacy**: Google actively engages in policy discussions to support climate-related legislation. They have provided comments to the U.S. Securities and Exchange Commission on climate-related disclosures and have advocated for clean energy policies in the U.S. and Europe.\n",
      "\n",
      "7. **Partnerships and Collaborations**: Google collaborates with various organizations to advance sustainability goals. This includes partnerships with the Ellen MacArthur Foundation, C40 Cities, and the Clean Energy Buyers Association, among others, to promote clean energy and circular economy practices.\n",
      "\n",
      "8. **Commitment to Renewable Energy**: Google has committed to running on 24/7 carbon-free energy in all its operations and has signed numerous renewable energy agreements, aiming to significantly reduce its carbon footprint.\n",
      "\n",
      "9. **Water Stewardship**: Google is involved in various water stewardship projects globally, focusing on improving water supply reliability and watershed health through partnerships with local organizations.\n",
      "\n",
      "10. **AI and Technology for Sustainability**: Google leverages its technological capabilities, particularly in AI, to address environmental challenges. This includes using AI for better resource management and to enhance the efficiency of energy use in its data centers.\n",
      "\n",
      "Overall, Google's environmental initiatives reflect a comprehensive approach that combines technology, information dissemination, product innovation, and policy advocacy to foster a more sustainable future. Their goal is to empower individuals and organizations to make informed decisions that contribute to environmental sustainability.\n"
     ]
    }
   ],
   "source": [
    "print(\"Agent message about tool calls: \\n\", result[\"messages\"][1].tool_calls)  # shows the retriever tool call\n",
    "print(\"\\n---FINAL RESULT---\")\n",
    "print(result[\"messages\"][-1].content)"
   ]
  },
  {
   "cell_type": "code",
   "execution_count": null,
   "id": "63baa37b",
   "metadata": {},
   "outputs": [
    {
     "name": "stdout",
     "output_type": "stream",
     "text": [
      "---CALL AGENT---\n",
      "---CHECK RELEVANCE---\n",
      "---RELEVANCE SCORE: 5.0, DECISION: DOCS RELEVANT---\n",
      "---GENERATE---\n",
      "Agent message about tool calls: \n",
      " [{'name': 'tavily_search_results_json', 'args': {'query': 'Google developing LLMs 2023'}, 'id': 'call_YKrmAFzp249angipweRmJ530', 'type': 'tool_call'}]\n",
      "\n",
      "---FINAL RESULT---\n",
      "Google is actively developing its large language models (LLMs) through a combination of foundational research, innovative applications, and strategic enhancements to their existing technologies. Here are some key aspects of how Google is advancing its LLMs:\n",
      "\n",
      "1. **Foundational Research and Innovations**: Google has a strong history of contributing to the foundational technologies that underpin LLMs. Notably, the company was responsible for the breakthrough research on the transformer architecture in 2017, which has become a cornerstone for many modern LLMs. This foundational work has positioned Google as a leader in AI research, although the company has faced challenges in the market, such as the mixed reception of its Bard AI.\n",
      "\n",
      "2. **Development of Advanced Models**: In 2023, Google introduced PaLM 2, an advanced LLM that integrates compute-optimal scaling, improved dataset mixtures, and enhanced model architecture. This model is designed to excel in advanced reasoning tasks, showcasing Google's commitment to pushing the boundaries of what LLMs can achieve.\n",
      "\n",
      "3. **Integration into Products**: Google is not just developing LLMs in isolation; it is also integrating them into its products. For instance, the Search Generative Experience (SGE) utilizes LLMs to transform the traditional search experience. This integration allows for a more conversational interaction model, enabling users to retrieve, synthesize, and creatively generate information, thereby enhancing the overall utility of Google's search engine.\n",
      "\n",
      "4. **Focus on Quality and Context**: At events like Google Cloud Next 2023, the importance of providing relevant data and clear contextual information in prompts was emphasized. Google is exploring ways to expand the context window for LLMs, which can improve the quality of outputs by allowing for more detailed and nuanced requests. This focus on quality is crucial for ensuring that LLMs can effectively meet user needs.\n",
      "\n",
      "5. **Encouragement of Experimentation**: Google is fostering a culture of experimentation with LLMs, encouraging developers and researchers to explore new ideas and applications. This approach is vital as the field of AI and LLMs is rapidly evolving, and there is still much to learn about how to optimize their performance and utility.\n",
      "\n",
      "In summary, Google is developing its LLMs through a combination of cutting-edge research, innovative product integration, a focus on quality and context, and a culture of experimentation. These efforts are aimed at not only advancing the technology itself but also enhancing the user experience across its platforms.\n"
     ]
    }
   ],
   "source": [
    "user_query = \"How is Google developing its LLMs?\"\n",
    "inputs = {\n",
    "    \"messages\": [HumanMessage(content=user_query)]\n",
    "}\n",
    "# Run the workflow\n",
    "result = graph.invoke(inputs)\n",
    "\n",
    "print(\"Agent message about tool calls: \\n\", result[\"messages\"][1].tool_calls)  # shows the web search tool call\n",
    "print(\"\\n---FINAL RESULT---\")\n",
    "print(result[\"messages\"][-1].content)"
   ]
  },
  {
   "cell_type": "code",
   "execution_count": null,
   "id": "64456f1e",
   "metadata": {},
   "outputs": [
    {
     "name": "stdout",
     "output_type": "stream",
     "text": [
      "---CALL AGENT---\n",
      "\"Output from node 'agent':\"\n",
      "'--------------------'\n",
      "{   'messages': [   AIMessage(content='', additional_kwargs={'tool_calls': [{'id': 'call_dk3ixh3rAXSZxp6D3SQUkDUg', 'function': {'arguments': '{\"query\":\"Google developing LLMs 2023\"}', 'name': 'tavily_search_results_json'}, 'type': 'function'}], 'refusal': None}, response_metadata={'token_usage': {'completion_tokens': 25, 'prompt_tokens': 131, 'total_tokens': 156, 'completion_tokens_details': {'accepted_prediction_tokens': 0, 'audio_tokens': 0, 'reasoning_tokens': 0, 'rejected_prediction_tokens': 0}, 'prompt_tokens_details': {'audio_tokens': 0, 'cached_tokens': 0}}, 'model_name': 'gpt-4o-mini-2024-07-18', 'system_fingerprint': 'fp_92e0377081', 'id': 'chatcmpl-BZltpumD6JEsVkY2Lv6t7HSRfje0Q', 'service_tier': 'default', 'finish_reason': 'tool_calls', 'logprobs': None}, id='run--c184d2d7-df23-46cc-b9fa-b429f2a0d7de-0', tool_calls=[{'name': 'tavily_search_results_json', 'args': {'query': 'Google developing LLMs 2023'}, 'id': 'call_dk3ixh3rAXSZxp6D3SQUkDUg', 'type': 'tool_call'}], usage_metadata={'input_tokens': 131, 'output_tokens': 25, 'total_tokens': 156, 'input_token_details': {'audio': 0, 'cache_read': 0}, 'output_token_details': {'audio': 0, 'reasoning': 0}})]}\n",
      "---CHECK RELEVANCE---\n",
      "---RELEVANCE SCORE: 5.0, DECISION: DOCS RELEVANT---\n",
      "\"Output from node 'retrieve':\"\n",
      "'--------------------'\n",
      "{   'messages': [   ToolMessage(content='[{\"title\": \"The Big Story of AI in 2023: LLMs - Embedl\", \"url\": \"https://www.embedl.com/knowledge/the-big-story-of-ai-in-2023-llms\", \"content\": \"The dominance of industry giants, often referred to as BigTech corporations, is evident in the development and accessibility of LLMs. Companies like Google, Facebook, and OpenAI have been at the forefront, investing significant resources in the research and development of these advanced AI models. The accessibility of LLMs has also increased, with many of these models now available for public use, promoting innovation and collaboration across industries. [...] Initially, it was only the leading tech giants such as Google, Microsoft, and Facebook who had the necessary resources to conceptualize, construct, and launch massive models like GPT-4, which boasted an astonishing trillion parameters. OpenAI was at the forefront in this arena, releasing an incredibly useful language model (LLM) that catered to a wide range of applications. However, the year 2023 marked a turning point as other organizations such as Anthropic, Mistral, Google, Meta, EleutherAI, [...] In summary, the AI landscape in 2023 is centered around the remarkable progress of LLMs. From their initial predictive capabilities to their democratization on personal devices, LLMs have revolutionized the way we interact with AI. The future holds exciting possibilities, with Embedl leading the charge in advancing LLM technology. As we witness the ongoing evolution of LLMs, we can anticipate even more groundbreaking developments that will further shape the AI landscape and its impact on\", \"score\": 0.7366474}, {\"title\": \"Google Leads With LLMs, Meta and OpenAI Struggle - IEEE Spectrum\", \"url\": \"https://spectrum.ieee.org/large-language-models-2025\", \"content\": \"That left some tech giants, including Google, behind the curve. The breakthrough research paper on the transformer architecture that underpins large language models came from Google in 2017, yet the company is often remembered more for its botched launch of Bard in 2023 than for its innovative AI research.\\\\nBut strong new LLMs from Google, and misfires from Meta and OpenAI, are shifting the vibe.\\\\nLlama 4 herd gets off on the wrong hoof\", \"score\": 0.72348577}, {\"title\": \"What I Learned at Google Cloud Next 2023: LLMs, Data ... - Medium\", \"url\": \"https://medium.com/@jeremywhuff/what-i-learned-at-google-cloud-next-2023-llms-data-production-app-pipelines-16788e7da4bd\", \"content\": \"With regards to getting quality work out of LLMs, the conference made it clear how important it is to connect in relevant data and give clear contextual information in prompts. Expanding the context window is a fundamental input that should ease constraints a lot. That can mean less aggressive chunking and pairing-down of data to form effective requests, and those requests can include more thorough instructions for the LLM to successfully complete the desired task. [...] Lastly, the panel had a recommendation that I heard elsewhere during the conference: now is the time for experimentation. AI and LLMs are going to some big places, but a lot simply hasn’t been figured out yet. Start hacking away at some prompts, generate ideas, and let’s see what we can make!\\\\n\\\\n--\\\\n\\\\n--\\\\n\\\\n1\\\\n\\\\nWritten by Jeremy Huff\\\\n\\\\nFull Stack Developer | 2X Company Co-Founder | Building with AI 🤖\\\\n\\\\nResponses (1)\\\\n\\\\nHelp\\\\n\\\\nStatus\\\\n\\\\nAbout\\\\n\\\\nCareers\\\\n\\\\nPress\\\\n\\\\nBlog\\\\n\\\\nPrivacy\\\\n\\\\nRules\\\\n\\\\nTerms\\\\n\\\\nText to speech [...] Irina’s portion demos three new features within Vertex AI to evaluate and monitor LLM pipelines. These approaches look indispensable for building and maintaining quality LLM pipelines in production, and I have yet to find many well-developed tools for these tasks so far. I’m looking forward to try them out.\\\\n\\\\nFun Demos\", \"score\": 0.69795954}, {\"title\": \"2023: A year of groundbreaking advances in AI and computing\", \"url\": \"https://research.google/blog/2023-a-year-of-groundbreaking-advances-in-ai-and-computing/\", \"content\": \"In May, we watched the results of months and years of our foundational and applied work announced on stage at Google I/O. Principally, this included PaLM 2, a large language model (LLM) that brought together compute-optimal scaling, an improved dataset mixture, and model architecture to excel at advanced reasoning tasks. [...] Search Generative Experience (SGE), which uses LLMs to reimagine both how to organize information and how to help people navigate through it, creating a more fluid, conversational interaction model for our core Search product. This work extended the search engine experience from primarily focused on information retrieval into something much more — capable of retrieval, synthesis, creative generation and continuation of previous searches — while continuing to serve as a connection point between\", \"score\": 0.6739866}]', name='tavily_search_results_json', id='3c5ba3f4-c1bc-4fcf-97d5-3fad4c1ef07e', tool_call_id='call_dk3ixh3rAXSZxp6D3SQUkDUg', artifact={'query': 'Google developing LLMs 2023', 'follow_up_questions': None, 'answer': None, 'images': [], 'results': [{'url': 'https://www.embedl.com/knowledge/the-big-story-of-ai-in-2023-llms', 'title': 'The Big Story of AI in 2023: LLMs - Embedl', 'content': 'The dominance of industry giants, often referred to as BigTech corporations, is evident in the development and accessibility of LLMs. Companies like Google, Facebook, and OpenAI have been at the forefront, investing significant resources in the research and development of these advanced AI models. The accessibility of LLMs has also increased, with many of these models now available for public use, promoting innovation and collaboration across industries. [...] Initially, it was only the leading tech giants such as Google, Microsoft, and Facebook who had the necessary resources to conceptualize, construct, and launch massive models like GPT-4, which boasted an astonishing trillion parameters. OpenAI was at the forefront in this arena, releasing an incredibly useful language model (LLM) that catered to a wide range of applications. However, the year 2023 marked a turning point as other organizations such as Anthropic, Mistral, Google, Meta, EleutherAI, [...] In summary, the AI landscape in 2023 is centered around the remarkable progress of LLMs. From their initial predictive capabilities to their democratization on personal devices, LLMs have revolutionized the way we interact with AI. The future holds exciting possibilities, with Embedl leading the charge in advancing LLM technology. As we witness the ongoing evolution of LLMs, we can anticipate even more groundbreaking developments that will further shape the AI landscape and its impact on', 'score': 0.7366474, 'raw_content': None}, {'url': 'https://spectrum.ieee.org/large-language-models-2025', 'title': 'Google Leads With LLMs, Meta and OpenAI Struggle - IEEE Spectrum', 'content': 'That left some tech giants, including Google, behind the curve. The breakthrough research paper on the transformer architecture that underpins large language models came from Google in 2017, yet the company is often remembered more for its botched launch of Bard in 2023 than for its innovative AI research.\\nBut strong new LLMs from Google, and misfires from Meta and OpenAI, are shifting the vibe.\\nLlama 4 herd gets off on the wrong hoof', 'score': 0.72348577, 'raw_content': None}, {'url': 'https://medium.com/@jeremywhuff/what-i-learned-at-google-cloud-next-2023-llms-data-production-app-pipelines-16788e7da4bd', 'title': 'What I Learned at Google Cloud Next 2023: LLMs, Data ... - Medium', 'content': 'With regards to getting quality work out of LLMs, the conference made it clear how important it is to connect in relevant data and give clear contextual information in prompts. Expanding the context window is a fundamental input that should ease constraints a lot. That can mean less aggressive chunking and pairing-down of data to form effective requests, and those requests can include more thorough instructions for the LLM to successfully complete the desired task. [...] Lastly, the panel had a recommendation that I heard elsewhere during the conference: now is the time for experimentation. AI and LLMs are going to some big places, but a lot simply hasn’t been figured out yet. Start hacking away at some prompts, generate ideas, and let’s see what we can make!\\n\\n--\\n\\n--\\n\\n1\\n\\nWritten by Jeremy Huff\\n\\nFull Stack Developer | 2X Company Co-Founder | Building with AI 🤖\\n\\nResponses (1)\\n\\nHelp\\n\\nStatus\\n\\nAbout\\n\\nCareers\\n\\nPress\\n\\nBlog\\n\\nPrivacy\\n\\nRules\\n\\nTerms\\n\\nText to speech [...] Irina’s portion demos three new features within Vertex AI to evaluate and monitor LLM pipelines. These approaches look indispensable for building and maintaining quality LLM pipelines in production, and I have yet to find many well-developed tools for these tasks so far. I’m looking forward to try them out.\\n\\nFun Demos', 'score': 0.69795954, 'raw_content': None}, {'url': 'https://research.google/blog/2023-a-year-of-groundbreaking-advances-in-ai-and-computing/', 'title': '2023: A year of groundbreaking advances in AI and computing', 'content': 'In May, we watched the results of months and years of our foundational and applied work announced on stage at Google I/O. Principally, this included PaLM 2, a large language model (LLM) that brought together compute-optimal scaling, an improved dataset mixture, and model architecture to excel at advanced reasoning tasks. [...] Search Generative Experience (SGE), which uses LLMs to reimagine both how to organize information and how to help people navigate through it, creating a more fluid, conversational interaction model for our core Search product. This work extended the search engine experience from primarily focused on information retrieval into something much more — capable of retrieval, synthesis, creative generation and continuation of previous searches — while continuing to serve as a connection point between', 'score': 0.6739866, 'raw_content': None}], 'response_time': 0.9})]}\n",
      "---GENERATE---\n",
      "\"Output from node 'generate':\"\n",
      "'--------------------'\n",
      "{   'messages': [   'Google is actively developing its large language models '\n",
      "                    '(LLMs) through a combination of foundational research, '\n",
      "                    'innovative applications, and strategic enhancements to '\n",
      "                    'their existing technologies. Here are some key aspects of '\n",
      "                    'how Google is advancing its LLMs:\\n'\n",
      "                    '\\n'\n",
      "                    '1. **Foundational Research and Architecture**: Google has '\n",
      "                    'been a pioneer in the field of LLMs, having introduced '\n",
      "                    'the transformer architecture in 2017, which serves as the '\n",
      "                    'backbone for many modern LLMs. This architecture has '\n",
      "                    'enabled significant advancements in natural language '\n",
      "                    'processing and understanding.\\n'\n",
      "                    '\\n'\n",
      "                    '2. **Recent Developments**: In 2023, Google announced the '\n",
      "                    'release of PaLM 2, an advanced LLM that integrates '\n",
      "                    'compute-optimal scaling, improved dataset mixtures, and '\n",
      "                    'refined model architecture. This model is designed to '\n",
      "                    \"excel in advanced reasoning tasks, showcasing Google's \"\n",
      "                    'commitment to pushing the boundaries of what LLMs can '\n",
      "                    'achieve.\\n'\n",
      "                    '\\n'\n",
      "                    '3. **Integration with Products**: Google is not just '\n",
      "                    'developing LLMs in isolation; they are integrating these '\n",
      "                    'models into their core products. For instance, the Search '\n",
      "                    'Generative Experience (SGE) utilizes LLMs to enhance the '\n",
      "                    'search experience by enabling more conversational '\n",
      "                    'interactions, synthesizing information, and generating '\n",
      "                    'creative content. This shift represents a move from '\n",
      "                    'traditional information retrieval to a more interactive '\n",
      "                    'and generative approach.\\n'\n",
      "                    '\\n'\n",
      "                    '4. **Focus on Quality and Context**: At events like '\n",
      "                    'Google Cloud Next 2023, discussions highlighted the '\n",
      "                    'importance of providing relevant data and clear '\n",
      "                    'contextual information when using LLMs. Google emphasizes '\n",
      "                    'the need for experimentation and iterative development, '\n",
      "                    'encouraging users to refine their prompts and explore the '\n",
      "                    'capabilities of LLMs in various applications.\\n'\n",
      "                    '\\n'\n",
      "                    '5. **Tools for Development and Monitoring**: Google is '\n",
      "                    'also developing tools within its Vertex AI platform to '\n",
      "                    'evaluate and monitor LLM pipelines. These tools are '\n",
      "                    'essential for maintaining the quality and effectiveness '\n",
      "                    'of LLMs in production environments, indicating a focus on '\n",
      "                    'practical applications and operational excellence.\\n'\n",
      "                    '\\n'\n",
      "                    \"Overall, Google's approach to developing LLMs is \"\n",
      "                    'characterized by a blend of cutting-edge research, '\n",
      "                    'practical application in consumer products, and a '\n",
      "                    'commitment to enhancing user interaction through advanced '\n",
      "                    'AI capabilities. As the landscape of AI continues to '\n",
      "                    'evolve, Google is positioned to remain a key player in '\n",
      "                    'the development of LLM technology.']}\n"
     ]
    }
   ],
   "source": [
    "# Print the output of each node in the workflow\n",
    "import pprint\n",
    "\n",
    "for output in graph.stream(inputs):\n",
    "    for key, value in output.items():\n",
    "        pprint.pprint(f\"Output from node '{key}':\")\n",
    "        pprint.pprint(\"--------------------\")\n",
    "        if isinstance(value, list):\n",
    "            for item in value:\n",
    "                pprint.pprint(item, indent=4, width=80, depth=None)\n",
    "        else:\n",
    "            # Print the value directly\n",
    "            pprint.pprint(value, indent=4, width=80, depth=None)"
   ]
  }
 ],
 "metadata": {
  "kernelspec": {
   "display_name": ".langchain_rag",
   "language": "python",
   "name": "python3"
  },
  "language_info": {
   "codemirror_mode": {
    "name": "ipython",
    "version": 3
   },
   "file_extension": ".py",
   "mimetype": "text/x-python",
   "name": "python",
   "nbconvert_exporter": "python",
   "pygments_lexer": "ipython3",
   "version": "3.12.7"
  }
 },
 "nbformat": 4,
 "nbformat_minor": 5
}
